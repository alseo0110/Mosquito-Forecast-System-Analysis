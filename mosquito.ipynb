{
  "nbformat": 4,
  "nbformat_minor": 0,
  "metadata": {
    "colab": {
      "provenance": []
    },
    "kernelspec": {
      "name": "python3",
      "display_name": "Python 3"
    },
    "language_info": {
      "name": "python"
    }
  },
  "cells": [
    {
      "cell_type": "code",
      "source": [
        "from sklearn.model_selection import train_test_split\n",
        "from sklearn.preprocessing import StandardScaler\n",
        "from sklearn.ensemble import RandomForestRegressor\n",
        "from sklearn.multioutput import MultiOutputRegressor\n",
        "from sklearn.metrics import mean_absolute_error, mean_squared_error\n",
        "import numpy as np\n",
        "import pandas as pd\n",
        "\n",
        "df = pd.read_csv('/content/최종_병합결과.csv', encoding='EUC-KR')"
      ],
      "metadata": {
        "id": "s5qz4PhC3_0O"
      },
      "execution_count": null,
      "outputs": []
    },
    {
      "cell_type": "code",
      "source": [
        "# 날짜 컬럼을 datetime으로 변환\n",
        "df[\"모기지수 발생일\"] = pd.to_datetime(df[\"모기지수 발생일\"])\n",
        "\n",
        "# X: 입력 변수, y: 타겟 변수 (모기지수 3가지)\n",
        "feature_cols = ['평균기온(℃)', '최고기온(℃)', '최저기온(℃)', '일교차',\n",
        "                '평균습도(%rh)', '최저습도(%rh)', '평균풍속(m/s)', '강수량(mm)']\n",
        "target_cols = ['모기지수(수변부)', '모기지수(주거지)', '모기지수(공원)']\n",
        "\n",
        "X = df[feature_cols]\n",
        "y = df[target_cols]\n",
        "\n",
        "# 데이터 분할 (학습:검증 = 80:20)\n",
        "X_train, X_test, y_train, y_test = train_test_split(X, y, test_size=0.2, random_state=42)"
      ],
      "metadata": {
        "id": "YNed2YlS7WGn"
      },
      "execution_count": null,
      "outputs": []
    },
    {
      "cell_type": "code",
      "source": [
        "# 스케일링\n",
        "scaler = StandardScaler()\n",
        "X_train_scaled = scaler.fit_transform(X_train)\n",
        "X_test_scaled = scaler.transform(X_test)"
      ],
      "metadata": {
        "id": "khWTeHmpjITD"
      },
      "execution_count": null,
      "outputs": []
    },
    {
      "cell_type": "code",
      "execution_count": null,
      "metadata": {
        "id": "i2GlGZFve2vP",
        "colab": {
          "base_uri": "https://localhost:8080/"
        },
        "outputId": "c9466a10-5e0f-4e54-d83b-3c4488857d0a"
      },
      "outputs": [
        {
          "output_type": "execute_result",
          "data": {
            "text/plain": [
              "({'모기지수(수변부)': np.float64(7.21566025641026),\n",
              "  '모기지수(주거지)': np.float64(10.751474358974361),\n",
              "  '모기지수(공원)': np.float64(9.048839743589744)},\n",
              " {'모기지수(수변부)': np.float64(13.64282915312224),\n",
              "  '모기지수(주거지)': np.float64(14.812059879861932),\n",
              "  '모기지수(공원)': np.float64(11.744106294113482)})"
            ]
          },
          "metadata": {},
          "execution_count": 11
        }
      ],
      "source": [
        "# 회귀 모델 (Random Forest 기반 MultiOutput 회귀)\n",
        "model = MultiOutputRegressor(RandomForestRegressor(n_estimators=100, random_state=42))\n",
        "model.fit(X_train_scaled, y_train)\n",
        "\n",
        "# 예측\n",
        "y_pred = model.predict(X_test_scaled)\n",
        "\n",
        "# 성능 평가\n",
        "mae = mean_absolute_error(y_test, y_pred, multioutput='raw_values')\n",
        "rmse = np.sqrt(mean_squared_error(y_test, y_pred, multioutput='raw_values'))\n",
        "\n",
        "mae_dict = dict(zip(target_cols, mae))\n",
        "rmse_dict = dict(zip(target_cols, rmse))\n",
        "\n",
        "mae_dict, rmse_dict"
      ]
    },
    {
      "cell_type": "code",
      "source": [
        "def predict_mosquito_index(temp_avg, temp_max, temp_min, temp_range,\n",
        "                           humidity_avg, humidity_min, wind_speed_avg, rainfall,\n",
        "                           scaler_obj, trained_model, feature_names):\n",
        "    \"\"\"\n",
        "    주어진 기상 조건을 사용하여 모기 지수를 예측합니다.\n",
        "\n",
        "    Args:\n",
        "        temp_avg (float): 평균 기온 (℃)\n",
        "        temp_max (float): 최고 기온 (℃)\n",
        "        temp_min (float): 최저 기온 (℃)\n",
        "        temp_range (float): 일교차\n",
        "        humidity_avg (float): 평균 습도 (%rh)\n",
        "        humidity_min (float): 최저 습도 (%rh)\n",
        "        wind_speed_avg (float): 평균 풍속 (m/s)\n",
        "        rainfall (float): 강수량 (mm)\n",
        "        scaler_obj (StandardScaler): 학습된 StandardScaler 객체.\n",
        "        trained_model (MultiOutputRegressor): 학습된 MultiOutputRegressor 모델.\n",
        "        feature_names (list): 모델 학습에 사용된 특성 컬럼 이름 리스트.\n",
        "\n",
        "    Returns:\n",
        "        pd.Series: 예측된 모기 지수 (수변부, 주거지, 공원)\n",
        "    \"\"\"\n",
        "    # 입력 데이터를 DataFrame으로 변환\n",
        "    input_data = pd.DataFrame([[temp_avg, temp_max, temp_min, temp_range,\n",
        "                                  humidity_avg, humidity_min, wind_speed_avg, rainfall]],\n",
        "                              columns=feature_names)\n",
        "\n",
        "    # 학습 시 사용된 스케일러로 입력 데이터 스케일링\n",
        "    input_scaled = scaler_obj.transform(input_data)\n",
        "\n",
        "    # 모델로 예측 수행\n",
        "    prediction = trained_model.predict(input_scaled)\n",
        "\n",
        "    # 예측 결과를 읽기 쉬운 형태로 반환 (Series)\n",
        "    return pd.Series(prediction[0], index=target_cols)\n",
        "\n",
        "\n",
        "print(\"\\n[2025년 5월 23일 (가상 데이터) 예측]\")\n",
        "next_day_weather1 = {\n",
        "    '평균기온(℃)': 19.4,\n",
        "    '최고기온(℃)': 22.2,\n",
        "    '최저기온(℃)': 15.4,\n",
        "    '일교차': 6.8,\n",
        "    '평균습도(%rh)': 53.8,\n",
        "    '최저습도(%rh)': 36.0,\n",
        "    '평균풍속(m/s)': 2.8,\n",
        "    '강수량(mm)': 1.2\n",
        "}\n",
        "\n",
        "predicted_index_next_day1 = predict_mosquito_index(\n",
        "    temp_avg=next_day_weather1['평균기온(℃)'],\n",
        "    temp_max=next_day_weather1['최고기온(℃)'],\n",
        "    temp_min=next_day_weather1['최저기온(℃)'],\n",
        "    temp_range=next_day_weather1['일교차'],\n",
        "    humidity_avg=next_day_weather1['평균습도(%rh)'],\n",
        "    humidity_min=next_day_weather1['최저습도(%rh)'],\n",
        "    wind_speed_avg=next_day_weather1['평균풍속(m/s)'],\n",
        "    rainfall=next_day_weather1['강수량(mm)'],\n",
        "    scaler_obj=scaler,\n",
        "    trained_model=model,\n",
        "    feature_names=feature_cols\n",
        ")\n",
        "print(predicted_index_next_day1)\n",
        "print(\"\\n[2025년 5월 24일 (가상 데이터) 예측]\")\n",
        "next_day_weather2 = {\n",
        "    '평균기온(℃)': 15.6,\n",
        "    '최고기온(℃)': 19.3,\n",
        "    '최저기온(℃)': 13.0,\n",
        "    '일교차': 6.3,\n",
        "    '평균습도(%rh)': 69.1,\n",
        "    '최저습도(%rh)': 53.0,\n",
        "    '평균풍속(m/s)': 3.1,\n",
        "    '강수량(mm)': 4.3\n",
        "}\n",
        "\n",
        "predicted_index_next_day2 = predict_mosquito_index(\n",
        "    temp_avg=next_day_weather2['평균기온(℃)'],\n",
        "    temp_max=next_day_weather2['최고기온(℃)'],\n",
        "    temp_min=next_day_weather2['최저기온(℃)'],\n",
        "    temp_range=next_day_weather2['일교차'],\n",
        "    humidity_avg=next_day_weather2['평균습도(%rh)'],\n",
        "    humidity_min=next_day_weather2['최저습도(%rh)'],\n",
        "    wind_speed_avg=next_day_weather2['평균풍속(m/s)'],\n",
        "    rainfall=next_day_weather2['강수량(mm)'],\n",
        "    scaler_obj=scaler,\n",
        "    trained_model=model,\n",
        "    feature_names=feature_cols\n",
        ")\n",
        "print(predicted_index_next_day2)\n",
        "print(\"\\n[2025년 5월 25일 (가상 데이터) 예측]\")\n",
        "next_day_weather3 = {\n",
        "    '평균기온(℃)': 17.4,\n",
        "    '최고기온(℃)': 22.6,\n",
        "    '최저기온(℃)': 11.7,\n",
        "    '일교차': 10.9,\n",
        "    '평균습도(%rh)': 61.0,\n",
        "    '최저습도(%rh)': 44.0,\n",
        "    '평균풍속(m/s)': 2.1,\n",
        "    '강수량(mm)': 0\n",
        "}\n",
        "\n",
        "predicted_index_next_day3 = predict_mosquito_index(\n",
        "    temp_avg=next_day_weather3['평균기온(℃)'],\n",
        "    temp_max=next_day_weather3['최고기온(℃)'],\n",
        "    temp_min=next_day_weather3['최저기온(℃)'],\n",
        "    temp_range=next_day_weather3['일교차'],\n",
        "    humidity_avg=next_day_weather3['평균습도(%rh)'],\n",
        "    humidity_min=next_day_weather3['최저습도(%rh)'],\n",
        "    wind_speed_avg=next_day_weather3['평균풍속(m/s)'],\n",
        "    rainfall=next_day_weather3['강수량(mm)'],\n",
        "    scaler_obj=scaler,\n",
        "    trained_model=model,\n",
        "    feature_names=feature_cols\n",
        ")\n",
        "print(predicted_index_next_day3)"
      ],
      "metadata": {
        "colab": {
          "base_uri": "https://localhost:8080/"
        },
        "id": "n9ntFDsPSRRb",
        "outputId": "86c53b58-9edc-4a40-fe4e-d50970bb6f41"
      },
      "execution_count": null,
      "outputs": [
        {
          "output_type": "stream",
          "name": "stdout",
          "text": [
            "\n",
            "[2025년 5월 23일 (가상 데이터) 예측]\n",
            "모기지수(수변부)    87.066\n",
            "모기지수(주거지)    44.253\n",
            "모기지수(공원)     36.404\n",
            "dtype: float64\n",
            "\n",
            "[2025년 5월 24일 (가상 데이터) 예측]\n",
            "모기지수(수변부)    73.426\n",
            "모기지수(주거지)    37.297\n",
            "모기지수(공원)     27.888\n",
            "dtype: float64\n",
            "\n",
            "[2025년 5월 25일 (가상 데이터) 예측]\n",
            "모기지수(수변부)    61.171\n",
            "모기지수(주거지)    20.698\n",
            "모기지수(공원)     26.069\n",
            "dtype: float64\n"
          ]
        }
      ]
    }
  ]
}